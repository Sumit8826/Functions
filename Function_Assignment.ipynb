{
  "nbformat": 4,
  "nbformat_minor": 0,
  "metadata": {
    "colab": {
      "provenance": []
    },
    "kernelspec": {
      "name": "python3",
      "display_name": "Python 3"
    },
    "language_info": {
      "name": "python"
    }
  },
  "cells": [
    {
      "cell_type": "markdown",
      "source": [
        "**Theory**\n",
        "\n"
      ],
      "metadata": {
        "id": "yA95WJDepwt4"
      }
    },
    {
      "cell_type": "markdown",
      "source": [
        "Q1. What is the difference between a function and a method in Python?"
      ],
      "metadata": {
        "id": "RT258dbfqAhA"
      }
    },
    {
      "cell_type": "markdown",
      "source": [
        "Ans. In Python, **functions** and **methods** are both callable objects, but they are used in different contexts and have key differences:\n",
        "\n",
        "### 1. **Function:**\n",
        "- A function is a block of reusable code that performs a specific task.\n",
        "- Functions are defined using the `def` keyword and are not bound to any object.\n",
        "- Functions can be called independently, without needing to be associated with a class or instance.\n",
        "  \n",
        "Example of a function:\n",
        "```python\n",
        "def add(a, b):\n",
        "    return a + b\n",
        "\n",
        "result = add(5, 3)  # Calling the function\n",
        "```\n",
        "\n",
        "### 2. **Method:**\n",
        "- A method is similar to a function, but it is **associated with an object** (usually an instance of a class) and is called on that object.\n",
        "- Methods are defined inside classes, and they operate on the data contained within the object.\n",
        "- They typically take at least one argument, usually referred to as `self`, which refers to the instance of the class the method is called on.\n",
        "\n",
        "Example of a method:\n",
        "```python\n",
        "class Calculator:\n",
        "    def add(self, a, b):\n",
        "        return a + b\n",
        "\n",
        "calc = Calculator()\n",
        "result = calc.add(5, 3)  # Calling the method on an instance of the class\n",
        "```\n",
        "\n",
        "### Key Differences:\n",
        "1. **Binding**:\n",
        "   - **Function**: Not bound to any object, can be called anywhere.\n",
        "   - **Method**: Bound to an object (or class) and is called on that object.\n",
        "\n",
        "2. **Definition**:\n",
        "   - **Function**: Defined independently with `def`.\n",
        "   - **Method**: Defined inside a class and usually takes `self` as the first parameter.\n",
        "\n",
        "3. **Invocation**:\n",
        "   - **Function**: Called directly by its name.\n",
        "   - **Method**: Called on an object using dot notation (`object.method()`).\n",
        "\n",
        "In short, all methods are functions, but not all functions are methods."
      ],
      "metadata": {
        "id": "v3xzjh8aqND0"
      }
    },
    {
      "cell_type": "markdown",
      "source": [
        "Q2. Explain the concept of function arguments and parameters in Python."
      ],
      "metadata": {
        "id": "35VYgGcYqlAT"
      }
    },
    {
      "cell_type": "markdown",
      "source": [
        "Ans. In Python, **function arguments** and **parameters** are fundamental concepts related to how we pass and receive data when calling and defining functions. Here’s a detailed explanation of each:\n",
        "\n",
        "### 1. **Parameters**:\n",
        "- **Parameters** are variables listed in the function definition. They define what kind of input the function expects when it is called.\n",
        "- Parameters act as placeholders for the values that will be passed into the function when it is invoked.\n",
        "\n",
        "Example:\n",
        "```python\n",
        "def greet(name, age):  # 'name' and 'age' are parameters\n",
        "    print(f\"Hello, {name}! You are {age} years old.\")\n",
        "```\n",
        "\n",
        "### 2. **Arguments**:\n",
        "- **Arguments** are the actual values or data passed to a function when it is called.\n",
        "- Arguments correspond to the parameters defined in the function. When calling the function, the arguments are provided in the same order as the parameters.\n",
        "\n",
        "Example:\n",
        "```python\n",
        "greet(\"Alice\", 30)  # \"Alice\" and 30 are arguments\n",
        "```\n",
        "\n",
        "### Key Points:\n",
        "- **Parameters** are defined in the function's signature, and **arguments** are the actual values passed when the function is called.\n",
        "- When you define a function, you list **parameters** to specify what kind of information the function needs to operate.\n",
        "- When you call the function, you provide **arguments** that represent actual values to replace the parameters during the function execution.\n",
        "\n",
        "### Types of Function Arguments:\n",
        "\n",
        "1. **Positional Arguments**:\n",
        "   - These are arguments passed to the function in the same order as the parameters are defined in the function.\n",
        "   \n",
        "   Example:\n",
        "   ```python\n",
        "   def add(x, y):  # x and y are parameters\n",
        "       return x + y\n",
        "\n",
        "   result = add(3, 5)  # 3 and 5 are positional arguments\n",
        "   ```\n",
        "\n",
        "2. **Keyword Arguments**:\n",
        "   - These arguments are passed by explicitly specifying the parameter name and its value.\n",
        "   - The order of these arguments doesn’t matter.\n",
        "   \n",
        "   Example:\n",
        "   ```python\n",
        "   def greet(name, age):\n",
        "       print(f\"Hello, {name}! You are {age} years old.\")\n",
        "   \n",
        "   greet(name=\"Bob\", age=25)  # Passing arguments by keyword\n",
        "   ```\n",
        "\n",
        "3. **Default Arguments**:\n",
        "   - These are parameters that have a default value. If the caller doesn’t provide a value for these parameters, the default value is used.\n",
        "   \n",
        "   Example:\n",
        "   ```python\n",
        "   def greet(name, age=18):  # age has a default value of 18\n",
        "       print(f\"Hello, {name}! You are {age} years old.\")\n",
        "\n",
        "   greet(\"Alice\")  # Uses default age value (18)\n",
        "   greet(\"Bob\", 25)  # Overrides the default value of age\n",
        "   ```\n",
        "\n",
        "4. **Variable-length Arguments**:\n",
        "   - If you don’t know in advance how many arguments might be passed to a function, you can use `*args` (for non-keyword arguments) or `**kwargs` (for keyword arguments).\n",
        "   \n",
        "   Example with `*args`:\n",
        "   ```python\n",
        "   def add(*args):\n",
        "       return sum(args)\n",
        "\n",
        "   result = add(1, 2, 3, 4)  # *args collects all values into a tuple\n",
        "   ```\n",
        "\n",
        "   Example with `**kwargs`:\n",
        "   ```python\n",
        "   def greet(**kwargs):\n",
        "       for key, value in kwargs.items():\n",
        "           print(f\"{key}: {value}\")\n",
        "\n",
        "   greet(name=\"Alice\", age=25, city=\"New York\")  # **kwargs collects all keyword arguments into a dictionary\n",
        "   ```\n",
        "\n",
        "### Recap:\n",
        "- **Parameters**: Variables in the function definition that specify what values the function expects.\n",
        "- **Arguments**: Actual values passed to the function when it is called.\n",
        "- Different types of arguments (positional, keyword, default, variable-length) allow flexibility when defining and calling functions.\n",
        "\n",
        "This system helps in writing functions that can handle various kinds of inputs and can be adapted to different situations."
      ],
      "metadata": {
        "id": "E-MguK9PqqFl"
      }
    },
    {
      "cell_type": "markdown",
      "source": [
        "Q3. What are the different ways to define and call a function in Python?"
      ],
      "metadata": {
        "id": "FRrnx_5zq9Mf"
      }
    },
    {
      "cell_type": "markdown",
      "source": [
        "Ans. In Python, there are multiple ways to **define** and **call** a function, depending on how you want to structure your code and handle arguments. Below are the different ways to define and call functions:\n",
        "\n",
        "### 1. **Defining a Basic Function**\n",
        "\n",
        "A simple function is defined using the `def` keyword, followed by the function name, and parentheses containing parameters (if any). After the colon (`:`), you write the function body, indented.\n",
        "\n",
        "**Example:**\n",
        "```python\n",
        "def greet():\n",
        "    print(\"Hello, World!\")\n",
        "```\n",
        "\n",
        "**Calling the Function:**\n",
        "You call a function by using its name followed by parentheses.\n",
        "\n",
        "```python\n",
        "greet()  # Calls the greet function\n",
        "```\n",
        "\n",
        "### 2. **Function with Parameters**\n",
        "\n",
        "A function can take **parameters** to accept input data when called. You define parameters inside the parentheses.\n",
        "\n",
        "**Example:**\n",
        "```python\n",
        "def greet(name):\n",
        "    print(f\"Hello, {name}!\")\n",
        "```\n",
        "\n",
        "**Calling the Function with Arguments:**\n",
        "You pass the actual values, known as **arguments**, when calling the function.\n",
        "\n",
        "```python\n",
        "greet(\"Alice\")  # Passes \"Alice\" as an argument\n",
        "```\n",
        "\n",
        "### 3. **Function with Return Value**\n",
        "\n",
        "A function can also return a value using the `return` keyword. This allows the function to output a result that can be stored or used in other parts of the code.\n",
        "\n",
        "**Example:**\n",
        "```python\n",
        "def add(x, y):\n",
        "    return x + y\n",
        "```\n",
        "\n",
        "**Calling the Function and Storing the Result:**\n",
        "You can store the returned value in a variable.\n",
        "\n",
        "```python\n",
        "result = add(3, 5)  # Calls the function and stores the result\n",
        "print(result)  # Output will be 8\n",
        "```\n",
        "\n",
        "### 4. **Function with Default Parameters**\n",
        "\n",
        "You can define default values for parameters in a function. These values will be used if no arguments are passed for those parameters when calling the function.\n",
        "\n",
        "**Example:**\n",
        "```python\n",
        "def greet(name, age=18):\n",
        "    print(f\"Hello, {name}! You are {age} years old.\")\n",
        "```\n",
        "\n",
        "**Calling the Function:**\n",
        "- If you don’t pass the `age` argument, it uses the default value (18).\n",
        "- If you do pass it, the default is overridden.\n",
        "\n",
        "```python\n",
        "greet(\"Alice\")  # Uses default age value (18)\n",
        "greet(\"Bob\", 25)  # Overrides the default age value (25)\n",
        "```\n",
        "\n",
        "### 5. **Function with Variable-Length Arguments (`*args`)**\n",
        "\n",
        "If you don’t know how many arguments will be passed to the function, you can use `*args` to allow for a variable number of non-keyword arguments. These arguments are passed as a tuple.\n",
        "\n",
        "**Example:**\n",
        "```python\n",
        "def add(*args):\n",
        "    return sum(args)\n",
        "```\n",
        "\n",
        "**Calling the Function with Multiple Arguments:**\n",
        "```python\n",
        "result = add(1, 2, 3, 4)  # Calls with four arguments\n",
        "print(result)  # Output will be 10\n",
        "```\n",
        "\n",
        "### 6. **Function with Keyword Variable-Length Arguments (`**kwargs`)**\n",
        "\n",
        "You can use `**kwargs` to accept a variable number of keyword arguments (i.e., arguments passed as key-value pairs). These arguments are passed as a dictionary.\n",
        "\n",
        "**Example:**\n",
        "```python\n",
        "def greet(**kwargs):\n",
        "    for key, value in kwargs.items():\n",
        "        print(f\"{key}: {value}\")\n",
        "```\n",
        "\n",
        "**Calling the Function with Keyword Arguments:**\n",
        "```python\n",
        "greet(name=\"Alice\", age=25, city=\"New York\")\n",
        "# Output:\n",
        "# name: Alice\n",
        "# age: 25\n",
        "# city: New York\n",
        "```\n",
        "\n",
        "### 7. **Lambda Functions (Anonymous Functions)**\n",
        "\n",
        "Lambda functions are small, anonymous functions that can be defined using the `lambda` keyword. These are typically used for short operations or passing functions as arguments to higher-order functions.\n",
        "\n",
        "**Example:**\n",
        "```python\n",
        "add = lambda x, y: x + y\n",
        "```\n",
        "\n",
        "**Calling the Lambda Function:**\n",
        "```python\n",
        "result = add(3, 4)  # Calls the lambda function\n",
        "print(result)  # Output will be 7\n",
        "```\n",
        "\n",
        "### 8. **Function as an Argument (Passing Functions)**\n",
        "\n",
        "You can pass a function as an argument to another function, enabling higher-order functions.\n",
        "\n",
        "**Example:**\n",
        "```python\n",
        "def apply_function(f, x):\n",
        "    return f(x)\n",
        "\n",
        "def square(n):\n",
        "    return n * n\n",
        "\n",
        "result = apply_function(square, 5)  # Passes the square function as an argument\n",
        "print(result)  # Output will be 25\n",
        "```\n",
        "\n",
        "### Recap:\n",
        "\n",
        "- **Defining a function**: Use `def` followed by the function name and parameters.\n",
        "- **Calling a function**: Use the function name followed by parentheses.\n",
        "- **Default parameters**: Provide default values for parameters that can be omitted when calling the function.\n",
        "- **Variable-length arguments**: Use `*args` for non-keyword arguments and `**kwargs` for keyword arguments.\n",
        "- **Lambda functions**: Define small anonymous functions using `lambda`.\n",
        "\n",
        "These ways provide flexibility in how you define and call functions in Python, allowing for clear, reusable, and adaptable code."
      ],
      "metadata": {
        "id": "dSsR5ZAprA9h"
      }
    },
    {
      "cell_type": "markdown",
      "source": [
        "Q4. What is the purpose of the `return` statement in a Python function?"
      ],
      "metadata": {
        "id": "nGN4Y-M6rZLz"
      }
    },
    {
      "cell_type": "markdown",
      "source": [
        "Ans. The **`return`** statement in Python is used to **exit a function** and **send a result back** to the caller. It allows a function to produce a value or data that can be used later, rather than just performing an action or printing output directly.\n",
        "\n",
        "Here are the key purposes of the `return` statement:\n",
        "\n",
        "### 1. **Returning a Value**:\n",
        "The `return` statement allows a function to send a result back to the caller. This value can then be stored in a variable, used in expressions, or passed to other functions.\n",
        "\n",
        "**Example:**\n",
        "```python\n",
        "def add(x, y):\n",
        "    return x + y\n",
        "\n",
        "result = add(3, 5)  # The function returns the value 8\n",
        "print(result)  # Output: 8\n",
        "```\n",
        "In this example, the function `add()` returns the sum of `x` and `y`, which is then stored in the `result` variable.\n",
        "\n",
        "### 2. **Exiting the Function Early**:\n",
        "The `return` statement causes the function to stop executing immediately and return to the caller. No code after the `return` statement is executed in that function.\n",
        "\n",
        "**Example:**\n",
        "```python\n",
        "def check_even(x):\n",
        "    if x % 2 != 0:\n",
        "        return \"Odd\"  # Returns and exits the function early if the number is odd\n",
        "    return \"Even\"\n",
        "\n",
        "result = check_even(3)  # The function returns \"Odd\" and exits early\n",
        "print(result)  # Output: Odd\n",
        "```\n",
        "Here, the `return` statement exits the function as soon as it finds that the number is odd, without checking for further conditions.\n",
        "\n",
        "### 3. **Returning Multiple Values (as a Tuple)**:\n",
        "A function can return multiple values using the `return` statement. Python implicitly packs these values into a tuple when multiple values are returned.\n",
        "\n",
        "**Example:**\n",
        "```python\n",
        "def calculate(x, y):\n",
        "    return x + y, x * y  # Returning two values\n",
        "\n",
        "sum_result, product_result = calculate(3, 5)  # Returns both the sum and product as a tuple\n",
        "print(sum_result)  # Output: 8\n",
        "print(product_result)  # Output: 15\n",
        "```\n",
        "In this case, the function returns both the sum and product of `x` and `y`, which are unpacked into separate variables.\n",
        "\n",
        "### 4. **Return `None` by Default**:\n",
        "If no `return` statement is used in a function, Python automatically returns `None` when the function finishes executing. This can be useful when the function is intended to perform actions but does not need to return a value.\n",
        "\n",
        "**Example:**\n",
        "```python\n",
        "def print_message(message):\n",
        "    print(message)\n",
        "\n",
        "result = print_message(\"Hello, Python!\")\n",
        "print(result)  # Output: None (since the function does not explicitly return anything)\n",
        "```\n",
        "Here, the function doesn't have a `return` statement, so it implicitly returns `None`.\n",
        "\n",
        "### Recap:\n",
        "- **Purpose**: The `return` statement is used to send a result from a function back to its caller.\n",
        "- **Early Exit**: It allows the function to exit early and return a value immediately.\n",
        "- **Returning Multiple Values**: You can return multiple values packed in a tuple.\n",
        "- **Default Return**: If no `return` statement is present, the function returns `None` by default.\n",
        "\n",
        "The `return` statement is essential for making functions reusable and for passing computed values out of functions, enabling them to perform meaningful tasks."
      ],
      "metadata": {
        "id": "p2jIQr4QrfJw"
      }
    },
    {
      "cell_type": "markdown",
      "source": [
        "Q5.  What are iterators in Python and how do they differ from iterables?"
      ],
      "metadata": {
        "id": "3khgnTzDr0u3"
      }
    },
    {
      "cell_type": "markdown",
      "source": [
        "Ans. In Python, **iterators** and **iterables** are important concepts that deal with sequences of data. Here’s an explanation of each, along with the key differences:\n",
        "\n",
        "### 1. **Iterable**:\n",
        "An **iterable** is any Python object that can be looped over (iterated through) using a `for` loop or other iteration methods. An iterable is an object that implements the **`__iter__()`** method or defines the **`__getitem__()`** method to return items one at a time.\n",
        "\n",
        "- Common examples of iterables in Python include lists, tuples, dictionaries, strings, and sets.\n",
        "- An iterable does not produce values on its own; it simply provides a way to access the data sequentially.\n",
        "\n",
        "**Example of an Iterable:**\n",
        "```python\n",
        "numbers = [1, 2, 3, 4]  # List is an iterable\n",
        "\n",
        "# You can loop through the iterable with a for loop\n",
        "for num in numbers:\n",
        "    print(num)\n",
        "```\n",
        "\n",
        "### 2. **Iterator**:\n",
        "An **iterator** is an object that represents a stream of data. It allows us to iterate over a sequence of data one element at a time. An iterator is an object that implements the **`__iter__()`** method and the **`__next__()`** method.\n",
        "\n",
        "- The **`__next__()`** method retrieves the next item from the sequence each time it is called. Once all items have been returned, the **`StopIteration`** exception is raised to signal that there are no more items.\n",
        "- An iterator is **exhausted** after it has iterated over all the elements, meaning it can only be used once for iteration.\n",
        "\n",
        "**Example of an Iterator:**\n",
        "```python\n",
        "numbers = [1, 2, 3, 4]\n",
        "iterator = iter(numbers)  # Creating an iterator from the iterable\n",
        "\n",
        "# Using next() to iterate through the iterator\n",
        "print(next(iterator))  # Output: 1\n",
        "print(next(iterator))  # Output: 2\n",
        "print(next(iterator))  # Output: 3\n",
        "print(next(iterator))  # Output: 4\n",
        "print(next(iterator))  # Raises StopIteration exception, as the iterator is exhausted\n",
        "```\n",
        "\n",
        "### Key Differences Between Iterators and Iterables:\n",
        "\n",
        "| **Aspect**            | **Iterable**                             | **Iterator**                         |\n",
        "|-----------------------|------------------------------------------|--------------------------------------|\n",
        "| **Definition**         | An object that can be looped over (has `__iter__()` method) | An object that keeps track of the current position in the sequence (has `__next__()` method) |\n",
        "| **Methods**            | Implements `__iter__()` (optional `__getitem__()` for indexing) | Implements both `__iter__()` and `__next__()` |\n",
        "| **Reusability**        | Can be looped over multiple times | Can be iterated over only once; it becomes exhausted after iteration |\n",
        "| **Use in Loops**       | Can be passed directly to a `for` loop | Must be converted to an iterable first (using `iter()`) to be used in a loop |\n",
        "| **Examples**           | Lists, tuples, dictionaries, sets, strings | List iterator, file iterator, range iterator |\n",
        "\n",
        "### Example to Illustrate the Difference:\n",
        "\n",
        "```python\n",
        "# Iterable (a list)\n",
        "numbers = [1, 2, 3, 4]  # Iterable object\n",
        "\n",
        "# Creating an iterator from the iterable\n",
        "iterator = iter(numbers)  # Convert iterable to iterator\n",
        "\n",
        "# Using the iterator with next()\n",
        "print(next(iterator))  # Output: 1\n",
        "print(next(iterator))  # Output: 2\n",
        "\n",
        "# You can use a for loop directly with the iterable (no need to create an iterator)\n",
        "for num in numbers:\n",
        "    print(num)  # Output: 1 2 3 4\n",
        "```\n",
        "\n",
        "In summary:\n",
        "- An **iterable** is any object that can be looped over using a `for` loop (it implements the `__iter__()` method).\n",
        "- An **iterator** is an object that maintains the current state of the iteration and can be used to fetch elements one by one using `__next__()`.\n",
        "- You create an iterator from an iterable by passing the iterable to `iter()`. The iterator is responsible for keeping track of the iteration state."
      ],
      "metadata": {
        "id": "e4d08ac7r5CN"
      }
    },
    {
      "cell_type": "markdown",
      "source": [
        "Q6.  Explain the concept of generators in Python and how they are defined."
      ],
      "metadata": {
        "id": "0tXzjpyksPeS"
      }
    },
    {
      "cell_type": "markdown",
      "source": [
        "Ans. In Python, **generators** are a special type of iterator that allow you to iterate over a sequence of values **lazily** (i.e., one value at a time) without storing the entire sequence in memory. This makes them memory efficient and useful for working with large data sets or streams of data.\n",
        "\n",
        "### Key Concepts of Generators:\n",
        "1. **Lazy Evaluation**:\n",
        "   - Generators compute values on demand, meaning they only generate the next value when requested, rather than computing all values at once and storing them in memory.\n",
        "   - This makes generators **memory efficient** for handling large data sets because they don’t need to store the entire data set in memory.\n",
        "\n",
        "2. **State Preservation**:\n",
        "   - Generators maintain their state between iterations. Each time the `next()` function is called, the generator resumes execution from where it left off, not from the beginning.\n",
        "\n",
        "3. **StopIteration Exception**:\n",
        "   - When a generator has no more values to yield, it raises the `StopIteration` exception to signal the end of the sequence.\n",
        "\n",
        "### Defining a Generator:\n",
        "\n",
        "There are two common ways to define a generator in Python:\n",
        "\n",
        "#### 1. **Using a Function with `yield` Keyword**:\n",
        "   - A function becomes a generator if it uses the `yield` keyword. Each time the generator’s `__next__()` method is called, the function executes until it reaches the `yield` statement, which **returns a value** and **pauses** the function’s state.\n",
        "   - The generator can then be resumed from that point, continuing until the next `yield` or the function ends.\n",
        "\n",
        "**Example:**\n",
        "```python\n",
        "def count_up_to(limit):\n",
        "    count = 1\n",
        "    while count <= limit:\n",
        "        yield count  # Yield the current count and pause the function\n",
        "        count += 1\n",
        "\n",
        "# Creating a generator\n",
        "counter = count_up_to(5)\n",
        "\n",
        "# Iterating over the generator using a for loop\n",
        "for num in counter:\n",
        "    print(num)\n",
        "```\n",
        "\n",
        "Output:\n",
        "```\n",
        "1\n",
        "2\n",
        "3\n",
        "4\n",
        "5\n",
        "```\n",
        "\n",
        "In this example, the `count_up_to` function generates numbers starting from 1 up to a given `limit`, and the `yield` statement pauses the function and returns the value each time it's called.\n",
        "\n",
        "#### 2. **Using a Generator Expression**:\n",
        "   - Generator expressions are similar to list comprehensions but use parentheses `()` instead of square brackets `[]`.\n",
        "   - They allow you to quickly create simple generators in a single line.\n",
        "\n",
        "**Example:**\n",
        "```python\n",
        "# Generator expression\n",
        "squares = (x * x for x in range(5))\n",
        "\n",
        "# Iterating over the generator\n",
        "for square in squares:\n",
        "    print(square)\n",
        "```\n",
        "\n",
        "Output:\n",
        "```\n",
        "0\n",
        "1\n",
        "4\n",
        "9\n",
        "16\n",
        "```\n",
        "\n",
        "### How Generators Work:\n",
        "1. When a generator function is called, it doesn't execute immediately. Instead, it returns a **generator object**.\n",
        "2. When you call `next()` on the generator object, the function starts executing until it reaches the first `yield` statement.\n",
        "3. The value yielded by the `yield` statement is returned to the caller, and the state of the function (including local variables and the execution point) is **saved**.\n",
        "4. The next time `next()` is called, the generator resumes execution from the point it left off and continues until the next `yield` or until the function ends.\n",
        "5. When the function finishes execution, the generator raises a `StopIteration` exception to signal that there are no more values to yield.\n",
        "\n",
        "### Advantages of Generators:\n",
        "1. **Memory Efficiency**: Generators don’t store the entire sequence in memory, which is beneficial when working with large datasets.\n",
        "2. **Lazy Evaluation**: You only compute values when you need them, which can speed up your program if you don't need all values at once.\n",
        "3. **Statefulness**: Generators can maintain their state between iterations, making them useful for scenarios where maintaining the current state is important.\n",
        "\n",
        "### Example of Using `next()` and `StopIteration`:\n",
        "```python\n",
        "def simple_gen():\n",
        "    yield 1\n",
        "    yield 2\n",
        "    yield 3\n",
        "\n",
        "gen = simple_gen()\n",
        "\n",
        "print(next(gen))  # Output: 1\n",
        "print(next(gen))  # Output: 2\n",
        "print(next(gen))  # Output: 3\n",
        "print(next(gen))  # Raises StopIteration, as the generator is exhausted\n",
        "```\n",
        "\n",
        "### Recap:\n",
        "- **Generators** are special iterators that yield values one at a time as needed, without storing the entire sequence in memory.\n",
        "- They are defined using a function with the `yield` keyword or a generator expression.\n",
        "- The `yield` statement pauses the function’s execution, preserving its state, and returns a value to the caller.\n",
        "- Generators provide memory efficiency and lazy evaluation, making them useful for large datasets or streaming data."
      ],
      "metadata": {
        "id": "3YYhq4AQsVBA"
      }
    },
    {
      "cell_type": "markdown",
      "source": [
        "Q7. What are the advantages of using generators over regular functions?"
      ],
      "metadata": {
        "id": "w7DsFnL7ssNx"
      }
    },
    {
      "cell_type": "markdown",
      "source": [
        "Ans. Using **generators** in Python offers several advantages over regular functions, especially when dealing with large datasets or sequences of data. Here are the key benefits:\n",
        "\n",
        "### 1. **Memory Efficiency**:\n",
        "   - **Generators** produce items one at a time and only when needed (lazily), which means they do not store the entire dataset in memory. This makes them highly memory-efficient, particularly when working with large datasets or infinite sequences.\n",
        "   - **Regular functions**, on the other hand, typically generate all values at once (e.g., by returning a list), which can be costly in terms of memory usage if the data is large.\n",
        "\n",
        "   **Example**:\n",
        "   - A regular function that generates a list of numbers would need to store all those numbers in memory at once.\n",
        "   - A generator yields one number at a time, so it doesn’t require storing all the numbers, only the current state of the sequence.\n",
        "\n",
        "### 2. **Lazy Evaluation (On-Demand Generation)**:\n",
        "   - **Generators** evaluate and generate values **only when requested**, meaning they allow you to handle potentially infinite or very large sequences without needing to compute or store them all at once.\n",
        "   - With a **regular function** (like one returning a list), you would typically have to compute all the values upfront, even if you only need a subset of them.\n",
        "   \n",
        "   **Example**:\n",
        "   - If you're iterating over a large dataset but only need to process a small part of it, a generator will only generate the required portion, making the process more efficient.\n",
        "\n",
        "### 3. **Improved Performance with Large Data**:\n",
        "   - Since **generators** only compute one item at a time, they reduce the performance overhead when you don’t need the entire dataset at once. This is particularly helpful in I/O-bound tasks like reading files line by line, processing streams of data, etc.\n",
        "   - **Regular functions**, by returning complete data structures like lists or tuples, may slow down if the data size is large or the computations are complex.\n",
        "\n",
        "   **Example**:\n",
        "   - Processing a large file: A generator can read and process one line at a time from a file, while a regular function would have to load the entire file into memory before starting to process it.\n",
        "\n",
        "### 4. **Maintaining State Between Iterations**:\n",
        "   - **Generators** maintain their internal state between each iteration (due to the way they pause and resume execution). This allows them to keep track of where they left off, without needing extra logic or memory structures.\n",
        "   - **Regular functions** that return complete sequences (e.g., lists) do not have this ability, and often require additional bookkeeping to manage states.\n",
        "\n",
        "   **Example**:\n",
        "   - A generator that yields Fibonacci numbers only needs to store the last two numbers in the sequence to compute the next one, while a regular function would need to generate and store all Fibonacci numbers up to the desired point.\n",
        "\n",
        "### 5. **Simplified Code for Iteration**:\n",
        "   - **Generators** simplify the code needed for iteration. You don’t need to worry about manually managing indices or stopping conditions, as the generator automatically handles the iteration using `yield`.\n",
        "   - **Regular functions** that return lists or other collections require more code for iteration (e.g., loops, indexing), which can be more complex and harder to maintain.\n",
        "\n",
        "   **Example**:\n",
        "   - With generators, iterating through data is as simple as using a `for` loop, without needing explicit indexing or list handling.\n",
        "   - For regular functions returning lists, you would have to iterate through the list or array manually.\n",
        "\n",
        "### 6. **Suitable for Infinite Sequences**:\n",
        "   - **Generators** can be used to generate **infinite sequences** because they do not store all values at once. They yield values one at a time, which makes it possible to work with sequences that have no end, such as generating an infinite series of numbers.\n",
        "   - **Regular functions** would not be feasible for infinite sequences, as they would try to generate the entire sequence at once, which is impossible for an infinite series.\n",
        "\n",
        "   **Example**:\n",
        "   - A generator can generate an infinite series of numbers (like natural numbers), whereas a regular function would need infinite memory to store such a sequence.\n",
        "\n",
        "   ```python\n",
        "   def infinite_count():\n",
        "       num = 1\n",
        "       while True:\n",
        "           yield num\n",
        "           num += 1\n",
        "   ```\n",
        "\n",
        "### 7. **Cleaner and More Readable Code**:\n",
        "   - **Generators** can help you write cleaner and more concise code, as they allow you to express iteration logic in a simple and readable manner using `yield`, without the need for complex loops or recursion.\n",
        "   - **Regular functions** that deal with large datasets often require more boilerplate code (e.g., creating lists, handling indices) which can become cumbersome as the code grows.\n",
        "\n",
        "### 8. **More Control Over Iteration**:\n",
        "   - **Generators** provide more control over iteration because you can stop and resume execution whenever you want. For example, using the `next()` function, you can manually control the flow of the generator and decide when to get the next item.\n",
        "   - **Regular functions** that return collections don’t offer this level of control, as the entire dataset is generated at once.\n",
        "\n",
        "### Example Comparison: Generators vs Regular Function\n",
        "\n",
        "#### Regular Function Returning a List:\n",
        "```python\n",
        "def get_squares(n):\n",
        "    return [x * x for x in range(n)]\n",
        "\n",
        "# Using the function\n",
        "squares = get_squares(5)\n",
        "for square in squares:\n",
        "    print(square)\n",
        "```\n",
        "\n",
        "#### Generator Using `yield`:\n",
        "```python\n",
        "def generate_squares(n):\n",
        "    for x in range(n):\n",
        "        yield x * x\n",
        "\n",
        "# Using the generator\n",
        "for square in generate_squares(5):\n",
        "    print(square)\n",
        "```\n",
        "\n",
        "**Advantages of the Generator Version**:\n",
        "- It doesn’t store the entire list of squares in memory. It computes and yields one square at a time.\n",
        "- It’s more memory-efficient, especially when `n` is very large.\n",
        "\n",
        "### Summary of Advantages:\n",
        "- **Memory efficiency**: Generators don’t store all values at once, only yielding one at a time.\n",
        "- **Lazy evaluation**: Values are computed only when needed, which is more efficient for large data or infinite sequences.\n",
        "- **Improved performance**: Especially useful when handling large datasets or performing I/O-bound tasks.\n",
        "- **Simpler code**: Easier to write and read, as you don’t have to manage state or data storage.\n",
        "- **Suitable for infinite sequences**: Generators can handle infinite sequences without running out of memory.\n",
        "\n",
        "In conclusion, generators are highly beneficial when working with large or infinite data sequences, as they allow for efficient, on-demand data generation while saving memory. Regular functions that return complete datasets may not be suitable for such tasks due to memory constraints and inefficiency in handling large amounts of data."
      ],
      "metadata": {
        "id": "01L2y1OksyWR"
      }
    },
    {
      "cell_type": "markdown",
      "source": [
        "Q8.  What is a lambda function in Python and when is it typically used?\n",
        "\n"
      ],
      "metadata": {
        "id": "JYsH5J52tLQR"
      }
    },
    {
      "cell_type": "markdown",
      "source": [
        "Ans. A **lambda function** in Python is a **small anonymous function** that is defined using the `lambda` keyword. It can have any number of input parameters, but it can only contain a single expression. The result of this expression is automatically returned, which makes lambda functions more concise than regular functions defined using the `def` keyword.\n",
        "\n",
        "### Syntax of a Lambda Function:\n",
        "```python\n",
        "lambda arguments: expression\n",
        "```\n",
        "\n",
        "- **arguments**: The parameters (or inputs) that the function will take.\n",
        "- **expression**: A single expression that is evaluated and returned by the function.\n",
        "\n",
        "### Example of a Lambda Function:\n",
        "```python\n",
        "# A simple lambda function that adds two numbers\n",
        "add = lambda x, y: x + y\n",
        "\n",
        "# Calling the lambda function\n",
        "print(add(3, 5))  # Output: 8\n",
        "```\n",
        "\n",
        "In this example:\n",
        "- `lambda x, y: x + y` is a lambda function that takes two arguments, `x` and `y`, and returns their sum.\n",
        "\n",
        "### Characteristics of Lambda Functions:\n",
        "1. **Anonymous**: Lambda functions don’t have a name (unless you assign them to a variable).\n",
        "2. **Single Expression**: They consist of a single expression and no statements. The expression’s result is automatically returned.\n",
        "3. **Compact**: They are typically used for short, simple operations where defining a full function with `def` would be overkill.\n",
        "\n",
        "### When to Use Lambda Functions:\n",
        "Lambda functions are typically used in the following situations:\n",
        "\n",
        "1. **Short, Throwaway Functions**:\n",
        "   Lambda functions are often used when you need a small function temporarily and don’t want to formally define it using `def`.\n",
        "\n",
        "   **Example**:\n",
        "   ```python\n",
        "   # Using lambda to square a number\n",
        "   square = lambda x: x ** 2\n",
        "   print(square(4))  # Output: 16\n",
        "   ```\n",
        "\n",
        "2. **In Higher-Order Functions**:\n",
        "   Lambda functions are commonly passed as arguments to higher-order functions like `map()`, `filter()`, and `sorted()`, where you need to define a small function for a specific operation.\n",
        "\n",
        "   **Example with `map()`**:\n",
        "   ```python\n",
        "   numbers = [1, 2, 3, 4]\n",
        "   squared_numbers = map(lambda x: x ** 2, numbers)\n",
        "   print(list(squared_numbers))  # Output: [1, 4, 9, 16]\n",
        "   ```\n",
        "\n",
        "   **Example with `filter()`**:\n",
        "   ```python\n",
        "   numbers = [1, 2, 3, 4, 5, 6]\n",
        "   even_numbers = filter(lambda x: x % 2 == 0, numbers)\n",
        "   print(list(even_numbers))  # Output: [2, 4, 6]\n",
        "   ```\n",
        "\n",
        "   **Example with `sorted()`**:\n",
        "   ```python\n",
        "   tuples = [(1, 'one'), (3, 'three'), (2, 'two')]\n",
        "   sorted_tuples = sorted(tuples, key=lambda x: x[1])\n",
        "   print(sorted_tuples)  # Output: [(1, 'one'), (2, 'two'), (3, 'three')]\n",
        "   ```\n",
        "\n",
        "3. **As a Callback Function**:\n",
        "   Lambda functions can be used as callback functions, which are often needed in certain Python libraries or frameworks.\n",
        "\n",
        "   **Example**:\n",
        "   ```python\n",
        "   def apply_operation(x, y, operation):\n",
        "       return operation(x, y)\n",
        "\n",
        "   # Using lambda as a callback\n",
        "   result = apply_operation(5, 3, lambda x, y: x * y)\n",
        "   print(result)  # Output: 15\n",
        "   ```\n",
        "\n",
        "4. **When You Need a Function for One-Time Use**:\n",
        "   When you just need a small function for a specific task that won’t be reused elsewhere, a lambda function can keep the code concise.\n",
        "\n",
        "   **Example**:\n",
        "   ```python\n",
        "   # Sorting a list of tuples by the second element\n",
        "   data = [(2, 'apple'), (3, 'banana'), (1, 'cherry')]\n",
        "   sorted_data = sorted(data, key=lambda x: x[1])\n",
        "   print(sorted_data)  # Output: [(2, 'apple'), (3, 'banana'), (1, 'cherry')]\n",
        "   ```\n",
        "\n",
        "### Advantages of Lambda Functions:\n",
        "1. **Concise**: Lambda functions allow you to write functions in a single line of code, making them very compact and easy to read for simple operations.\n",
        "2. **Anonymous**: They are useful when you don’t need to reuse the function elsewhere in your code.\n",
        "3. **Useful in Functional Programming**: Lambda functions are commonly used in functional programming paradigms for operations like `map()`, `filter()`, and `reduce()`.\n",
        "\n",
        "### Limitations of Lambda Functions:\n",
        "1. **Limited to a Single Expression**: Lambda functions cannot contain multiple statements or complex logic. This makes them unsuitable for larger tasks or operations.\n",
        "2. **Less Readable**: If overused or used for complex operations, lambda functions can make the code harder to understand, especially for people unfamiliar with Python.\n",
        "\n",
        "### Recap:\n",
        "- A **lambda function** is a concise, anonymous function defined with the `lambda` keyword, and it can only contain one expression.\n",
        "- **Lambda functions are typically used** for short, throwaway functions, in functional programming tasks (e.g., with `map()`, `filter()`, `sorted()`, etc.), as callback functions, and in situations where you need a quick function that won’t be reused.\n",
        "\n",
        "In summary, lambda functions are a powerful and efficient way to write small, inline functions in Python, especially when you need to pass them as arguments to other functions or perform quick, one-off operations. However, they should be used for simple tasks, as they have limitations in terms of complexity and readability."
      ],
      "metadata": {
        "id": "gMHDUJoAtQzr"
      }
    },
    {
      "cell_type": "markdown",
      "source": [
        "Q9. Explain the purpose and usage of the `map()` function in Python."
      ],
      "metadata": {
        "id": "_23KMFnttsyA"
      }
    },
    {
      "cell_type": "markdown",
      "source": [
        "Ans. The **`map()`** function in Python is a built-in function that allows you to apply a given function to each item in an iterable (such as a list, tuple, or set) and return a new iterable (specifically, a **map object**) that contains the results of the function applied to each element.\n",
        "\n",
        "### Purpose of `map()`:\n",
        "The purpose of the `map()` function is to **transform elements** of an iterable using a specific function. It’s particularly useful when you want to perform an operation on each item in a sequence without using an explicit loop (like a `for` loop).\n",
        "\n",
        "### Syntax:\n",
        "```python\n",
        "map(function, iterable, ...)\n",
        "```\n",
        "\n",
        "- **function**: A function that will be applied to each item in the iterable(s).\n",
        "- **iterable**: One or more iterables (e.g., lists, tuples, etc.) that you want to process. The function will be applied to each element in the iterable.\n",
        "- **...**: You can pass multiple iterables to `map()`, in which case the function must take as many arguments as there are iterables.\n",
        "\n",
        "### How `map()` Works:\n",
        "- `map()` returns a **map object**, which is an iterator, not a list. To convert it into a list, you need to pass it to the `list()` function.\n",
        "- The function provided to `map()` is applied to every element of the iterable, and a new iterator with the transformed values is returned.\n",
        "\n",
        "### Example 1: Basic Usage with One Iterable\n",
        "Here’s a simple example where we use `map()` to square each element in a list.\n",
        "\n",
        "```python\n",
        "# Function to square a number\n",
        "def square(x):\n",
        "    return x ** 2\n",
        "\n",
        "# List of numbers\n",
        "numbers = [1, 2, 3, 4, 5]\n",
        "\n",
        "# Applying the square function to each element in the list\n",
        "squared_numbers = map(square, numbers)\n",
        "\n",
        "# Convert the map object to a list and print it\n",
        "print(list(squared_numbers))  # Output: [1, 4, 9, 16, 25]\n",
        "```\n",
        "\n",
        "In this example:\n",
        "- The `square` function is applied to each element of the `numbers` list.\n",
        "- `map()` returns a map object, which is converted to a list using `list()` to display the result.\n",
        "\n",
        "### Example 2: Using Lambda Functions with `map()`\n",
        "You can also use **lambda functions** with `map()` to create compact, one-line functions for transforming elements.\n",
        "\n",
        "```python\n",
        "# List of numbers\n",
        "numbers = [1, 2, 3, 4, 5]\n",
        "\n",
        "# Using a lambda function to square each element\n",
        "squared_numbers = map(lambda x: x ** 2, numbers)\n",
        "\n",
        "# Convert the map object to a list and print it\n",
        "print(list(squared_numbers))  # Output: [1, 4, 9, 16, 25]\n",
        "```\n",
        "\n",
        "This is equivalent to the previous example but uses a lambda function for conciseness.\n",
        "\n",
        "### Example 3: Using `map()` with Multiple Iterables\n",
        "`map()` can also take multiple iterables as input. When this is the case, the function passed to `map()` must accept as many arguments as there are iterables. `map()` will apply the function in parallel to elements from each iterable.\n",
        "\n",
        "```python\n",
        "# Function to add two numbers\n",
        "def add(x, y):\n",
        "    return x + y\n",
        "\n",
        "# Two lists of numbers\n",
        "list1 = [1, 2, 3]\n",
        "list2 = [4, 5, 6]\n",
        "\n",
        "# Applying the add function to corresponding elements of both lists\n",
        "result = map(add, list1, list2)\n",
        "\n",
        "# Convert the map object to a list and print it\n",
        "print(list(result))  # Output: [5, 7, 9]\n",
        "```\n",
        "\n",
        "In this example:\n",
        "- The `add` function is applied to each pair of elements (one from `list1` and one from `list2`).\n",
        "- The result is a new list with the sum of the corresponding elements from both lists.\n",
        "\n",
        "### Key Points:\n",
        "1. **Returns an Iterator**: `map()` returns a **map object**, which is an iterator. You need to convert it to a list, tuple, or other iterable type if you want to view or work with the results.\n",
        "2. **Function Application**: The given function is applied to each element of the iterable(s). If multiple iterables are passed, the function receives one element from each iterable in each call.\n",
        "3. **Efficient for Large Data**: Since `map()` returns an iterator, it is more memory-efficient than creating and storing a new list in some cases, especially with large datasets.\n",
        "4. **Versatile**: You can pass any function to `map()`, including predefined functions, lambda functions, or even built-in functions like `str()`, `int()`, etc.\n",
        "\n",
        "### Advantages of Using `map()`:\n",
        "1. **Cleaner and More Concise**: `map()` provides a more functional programming style for transforming elements, often making code cleaner than using explicit loops.\n",
        "2. **Faster than Loops**: It can be faster than using a `for` loop, particularly for simple operations, since it uses a more optimized implementation internally.\n",
        "3. **Supports Multiple Iterables**: You can apply a function to multiple iterables in parallel with `map()`.\n",
        "\n",
        "### Disadvantages:\n",
        "1. **Not Readable for Complex Functions**: For complex operations, using `map()` may make the code harder to read and maintain. A regular `for` loop with clear variable names and logic might be more readable.\n",
        "2. **Returns Iterator**: Since `map()` returns an iterator, you need to convert it to a list or other iterable if you want to use or print the result.\n",
        "\n",
        "### Summary:\n",
        "- The `map()` function in Python is used to apply a function to each item in an iterable (or iterables) and return a map object, which can be converted to other data types like lists or tuples.\n",
        "- It is particularly useful for transforming or processing data in a concise and efficient way, especially when working with multiple iterables or when you need to apply a function to every element in a sequence."
      ],
      "metadata": {
        "id": "jFqANgb_twbC"
      }
    },
    {
      "cell_type": "markdown",
      "source": [
        "Q10. What is the difference between `map()`, `reduce()`, and `filter()` functions in Python?"
      ],
      "metadata": {
        "id": "NVxs2xvxuQyl"
      }
    },
    {
      "cell_type": "markdown",
      "source": [
        "Ans. In Python, the **`map()`**, **`reduce()`**, and **`filter()`** functions are all higher-order functions that allow you to apply a function to iterables. They are commonly used in functional programming to process data in a concise and readable manner. However, each of these functions serves a different purpose and operates in a unique way. Here’s a breakdown of the differences:\n",
        "\n",
        "### 1. **`map()`** Function\n",
        "- **Purpose**: The `map()` function is used to apply a given function to each item in an iterable (or multiple iterables) and return a new iterable (map object) with the results.\n",
        "- **Return Value**: A map object, which is an iterator. It can be converted to a list or other iterable type using `list()` or `tuple()`.\n",
        "- **Common Use Case**: Transforming or modifying each element in an iterable.\n",
        "\n",
        "#### Example:\n",
        "```python\n",
        "# Using map to square each element in a list\n",
        "numbers = [1, 2, 3, 4]\n",
        "squared_numbers = map(lambda x: x ** 2, numbers)\n",
        "print(list(squared_numbers))  # Output: [1, 4, 9, 16]\n",
        "```\n",
        "\n",
        "**Key Characteristics of `map()`**:\n",
        "- Takes a function and one or more iterables as arguments.\n",
        "- Applies the function to each element of the iterable(s).\n",
        "- Returns a new iterable with the transformed values.\n",
        "\n",
        "---\n",
        "\n",
        "### 2. **`reduce()`** Function\n",
        "- **Purpose**: The `reduce()` function is used to apply a binary function (a function that takes two arguments) cumulatively to the items in an iterable, reducing the iterable to a single value.\n",
        "- **Return Value**: A single value that is the result of applying the binary function cumulatively to the iterable.\n",
        "- **Common Use Case**: Aggregating or accumulating values from a sequence, such as calculating a sum, product, or other aggregate operation.\n",
        "\n",
        "#### Example:\n",
        "```python\n",
        "from functools import reduce\n",
        "\n",
        "# Using reduce to calculate the product of elements in a list\n",
        "numbers = [1, 2, 3, 4]\n",
        "product = reduce(lambda x, y: x * y, numbers)\n",
        "print(product)  # Output: 24\n",
        "```\n",
        "\n",
        "**Key Characteristics of `reduce()`**:\n",
        "- Takes a binary function (a function that takes two arguments) and an iterable as arguments.\n",
        "- Applies the function cumulatively to the iterable, reducing it to a single result.\n",
        "- It is available in the `functools` module (in Python 3.x).\n",
        "\n",
        "---\n",
        "\n",
        "### 3. **`filter()`** Function\n",
        "- **Purpose**: The `filter()` function is used to apply a given function to each item in an iterable, but instead of transforming the values, it **filters out** the elements based on a condition. The function should return `True` or `False` for each item, and only items for which the function returns `True` are included in the output.\n",
        "- **Return Value**: A filter object, which is an iterator. It can be converted to a list or other iterable type using `list()` or `tuple()`.\n",
        "- **Common Use Case**: Filtering elements based on a condition.\n",
        "\n",
        "#### Example:\n",
        "```python\n",
        "# Using filter to keep only even numbers in a list\n",
        "numbers = [1, 2, 3, 4, 5, 6]\n",
        "even_numbers = filter(lambda x: x % 2 == 0, numbers)\n",
        "print(list(even_numbers))  # Output: [2, 4, 6]\n",
        "```\n",
        "\n",
        "**Key Characteristics of `filter()`**:\n",
        "- Takes a function that returns a boolean value and an iterable as arguments.\n",
        "- Returns an iterable containing only the elements that satisfy the condition (where the function returns `True`).\n",
        "- Filters out elements for which the function returns `False`.\n",
        "\n",
        "---\n",
        "\n",
        "### Summary of Differences:\n",
        "| Function   | Purpose                                             | Input(s)                            | Return Type             | Use Case Example                        |\n",
        "|------------|-----------------------------------------------------|-------------------------------------|-------------------------|-----------------------------------------|\n",
        "| **`map()`** | Apply a function to each item in an iterable and transform them | Function, iterable(s)              | Map object (iterator)    | Transforming elements in a list (e.g., squaring numbers) |\n",
        "| **`reduce()`** | Apply a binary function cumulatively to reduce an iterable to a single value | Binary function, iterable          | Single value (result of cumulative operation) | Aggregating values (e.g., calculating product or sum) |\n",
        "| **`filter()`** | Filter elements of an iterable based on a condition | Function (returns `True`/`False`), iterable | Filter object (iterator) | Filtering elements (e.g., keeping only even numbers) |\n",
        "\n",
        "### Example of All Three Functions Together:\n",
        "\n",
        "```python\n",
        "from functools import reduce\n",
        "\n",
        "# Example list\n",
        "numbers = [1, 2, 3, 4, 5, 6]\n",
        "\n",
        "# Using map to square each number\n",
        "squared_numbers = map(lambda x: x ** 2, numbers)\n",
        "\n",
        "# Using filter to keep only even numbers\n",
        "even_numbers = filter(lambda x: x % 2 == 0, squared_numbers)\n",
        "\n",
        "# Using reduce to sum the even squared numbers\n",
        "result = reduce(lambda x, y: x + y, even_numbers)\n",
        "\n",
        "print(result)  # Output: 20 (4 + 16)\n",
        "```\n",
        "\n",
        "### Conclusion:\n",
        "- **`map()`** is used when you want to **transform** each item in an iterable.\n",
        "- **`reduce()`** is used when you want to **accumulate** a result from an iterable, reducing it to a single value.\n",
        "- **`filter()`** is used when you want to **filter** items in an iterable based on a condition, keeping only those that satisfy the condition.\n",
        "\n",
        "These functions provide powerful ways to handle data processing and transformations in a functional programming style."
      ],
      "metadata": {
        "id": "JNdFF1NRuWDA"
      }
    },
    {
      "cell_type": "markdown",
      "source": [
        "Q11  Using pen & Paper write the internal mechanism for sum operation using  reduce function on this given\n",
        "list:[47,11,42,13];"
      ],
      "metadata": {
        "id": "D82-imVMusAL"
      }
    },
    {
      "cell_type": "markdown",
      "source": [
        "Ans. To understand how the **`reduce()`** function works for summing elements of the list `[47, 11, 42, 13]`, let's break down the internal mechanism step by step.\n",
        "\n",
        "### Problem:\n",
        "We want to sum the elements of the list `[47, 11, 42, 13]` using `reduce()`.\n",
        "\n",
        "The syntax for `reduce()` is:\n",
        "```python\n",
        "reduce(function, iterable)\n",
        "```\n",
        "\n",
        "For this example, we'll use the function `lambda x, y: x + y` to sum two numbers. The `reduce()` function will apply this lambda function cumulatively to the elements in the iterable, reducing them to a single result.\n",
        "\n",
        "### Initial List:\n",
        "```\n",
        "[47, 11, 42, 13]\n",
        "```\n",
        "\n",
        "### Step-by-Step Execution:\n",
        "\n",
        "1. **First Iteration**:\n",
        "   - The `reduce()` function starts by applying the function to the first two elements: `47` and `11`.\n",
        "   - Function: `lambda x, y: x + y`\n",
        "   - Operation: `47 + 11 = 58`\n",
        "   - Result after first iteration: `58`\n",
        "\n",
        "2. **Second Iteration**:\n",
        "   - The result from the previous iteration, `58`, is now used as the first argument (`x`), and the next element in the list, `42`, is used as the second argument (`y`).\n",
        "   - Function: `lambda x, y: x + y`\n",
        "   - Operation: `58 + 42 = 100`\n",
        "   - Result after second iteration: `100`\n",
        "\n",
        "3. **Third Iteration**:\n",
        "   - Now, the result from the second iteration, `100`, is used as the first argument (`x`), and the next element, `13`, is used as the second argument (`y`).\n",
        "   - Function: `lambda x, y: x + y`\n",
        "   - Operation: `100 + 13 = 113`\n",
        "   - Result after third iteration: `113`\n",
        "\n",
        "### Final Result:\n",
        "After all iterations, the result of the sum operation is `113`.\n",
        "\n",
        "### Internal Mechanism (Pen and Paper):\n",
        "\n",
        "Let's illustrate this process step by step:\n",
        "\n",
        "1. **First Iteration**:  \n",
        "   ```\n",
        "   lambda(47, 11)  → 47 + 11 = 58\n",
        "   ```\n",
        "\n",
        "2. **Second Iteration**:  \n",
        "   ```\n",
        "   lambda(58, 42)  → 58 + 42 = 100\n",
        "   ```\n",
        "\n",
        "3. **Third Iteration**:  \n",
        "   ```\n",
        "   lambda(100, 13) → 100 + 13 = 113\n",
        "   ```\n",
        "\n",
        "### Final Output:\n",
        "The result after all iterations is `113`.\n",
        "\n",
        "Thus, the sum of the elements `[47, 11, 42, 13]` is **113**, and this is the final output of the `reduce()` operation.\n",
        "\n",
        "### Code for Reference:\n",
        "```python\n",
        "from functools import reduce\n",
        "\n",
        "numbers = [47, 11, 42, 13]\n",
        "sum_result = reduce(lambda x, y: x + y, numbers)\n",
        "print(sum_result)  # Output: 113\n",
        "```"
      ],
      "metadata": {
        "id": "c6K4va5-u4S6"
      }
    },
    {
      "cell_type": "markdown",
      "source": [
        "**Practical Questions**"
      ],
      "metadata": {
        "id": "LQZTk6LsvmPK"
      }
    },
    {
      "cell_type": "markdown",
      "source": [
        "Q1  Write a Python function that takes a list of numbers as input and returns the sum of all even numbers in\n",
        "the list."
      ],
      "metadata": {
        "id": "l-qBk6KXvx5e"
      }
    },
    {
      "cell_type": "code",
      "source": [
        "def sum_of_even_numbers(numbers):\n",
        "    # Filter out even numbers using filter() and a lambda function\n",
        "    even_numbers = filter(lambda x: x % 2 == 0, numbers)\n",
        "\n",
        "    # Return the sum of the even numbers\n",
        "    return sum(even_numbers)\n",
        "\n",
        "numbers = [47, 11, 42, 13, 8, 22]\n",
        "result = sum_of_even_numbers(numbers)\n",
        "print(result)  # Output: 72\n"
      ],
      "metadata": {
        "colab": {
          "base_uri": "https://localhost:8080/"
        },
        "id": "b09HT9Cmv2-t",
        "outputId": "c087f70a-4a58-45d6-db44-7ce959d8da09"
      },
      "execution_count": 1,
      "outputs": [
        {
          "output_type": "stream",
          "name": "stdout",
          "text": [
            "72\n"
          ]
        }
      ]
    },
    {
      "cell_type": "markdown",
      "source": [
        "Q2  Create a Python function that accepts a string and returns the reverse of that string."
      ],
      "metadata": {
        "id": "b7_jVh8jwcq2"
      }
    },
    {
      "cell_type": "code",
      "source": [
        "def reverse_string(input_string):\n",
        "    # Return the reversed string using slicing\n",
        "    return input_string[::-1]\n",
        "\n",
        "string = \"Hello, World!\"\n",
        "reversed_string = reverse_string(string)\n",
        "print(reversed_string)  # Output: \"!dlroW ,olleH\"\n"
      ],
      "metadata": {
        "colab": {
          "base_uri": "https://localhost:8080/"
        },
        "id": "4ShVdZ9ewhf-",
        "outputId": "5747bdd4-eb8b-46de-8418-ee7605fbb7bf"
      },
      "execution_count": 2,
      "outputs": [
        {
          "output_type": "stream",
          "name": "stdout",
          "text": [
            "!dlroW ,olleH\n"
          ]
        }
      ]
    },
    {
      "cell_type": "markdown",
      "source": [
        "Q3  Implement a Python function that takes a list of integers and returns a new list containing the squares of\n",
        "each number."
      ],
      "metadata": {
        "id": "wE_X-rSuw06E"
      }
    },
    {
      "cell_type": "code",
      "source": [
        "def square_numbers(numbers):\n",
        "    # Use list comprehension to square each number\n",
        "    return [x ** 2 for x in numbers]\n",
        "\n",
        "numbers = [1, 2, 3, 4, 5]\n",
        "squared_numbers = square_numbers(numbers)\n",
        "print(squared_numbers)  # Output: [1, 4, 9, 16, 25]\n"
      ],
      "metadata": {
        "colab": {
          "base_uri": "https://localhost:8080/"
        },
        "id": "amm-xkHAw5dO",
        "outputId": "4cb5b4c1-eeed-4b4c-d3e7-9bc7191ef394"
      },
      "execution_count": 3,
      "outputs": [
        {
          "output_type": "stream",
          "name": "stdout",
          "text": [
            "[1, 4, 9, 16, 25]\n"
          ]
        }
      ]
    },
    {
      "cell_type": "code",
      "source": [
        "def square_numbers(numbers):\n",
        "    # Use map to square each number\n",
        "    return list(map(lambda x: x ** 2, numbers))\n",
        "\n",
        "numbers = [1, 2, 3, 4, 5]\n",
        "squared_numbers = square_numbers(numbers)\n",
        "print(squared_numbers)  # Output: [1, 4, 9, 16, 25]\n"
      ],
      "metadata": {
        "colab": {
          "base_uri": "https://localhost:8080/"
        },
        "id": "iLMWPnrsxQLE",
        "outputId": "5fc64c2c-12f4-41b9-f520-b19ae87fc737"
      },
      "execution_count": 4,
      "outputs": [
        {
          "output_type": "stream",
          "name": "stdout",
          "text": [
            "[1, 4, 9, 16, 25]\n"
          ]
        }
      ]
    },
    {
      "cell_type": "markdown",
      "source": [
        "Q4  Write a Python function that checks if a given number is prime or not from 1 to 200."
      ],
      "metadata": {
        "id": "umQpcW1txZN9"
      }
    },
    {
      "cell_type": "code",
      "source": [
        "def is_prime(num):\n",
        "    if num <= 1:\n",
        "        return False  # Numbers less than or equal to 1 are not prime\n",
        "    for i in range(2, int(num**0.5) + 1):\n",
        "        if num % i == 0:\n",
        "            return False  # If divisible by any number other than 1 and itself\n",
        "    return True  # The number is prime if no divisors were found\n",
        "\n",
        "# Check prime numbers from 1 to 200\n",
        "for number in range(1, 201):\n",
        "    if is_prime(number):\n",
        "        print(number)\n"
      ],
      "metadata": {
        "colab": {
          "base_uri": "https://localhost:8080/"
        },
        "id": "Sn_q09SNxgpu",
        "outputId": "6e010b77-6ece-423c-9606-09e9167c5190"
      },
      "execution_count": 5,
      "outputs": [
        {
          "output_type": "stream",
          "name": "stdout",
          "text": [
            "2\n",
            "3\n",
            "5\n",
            "7\n",
            "11\n",
            "13\n",
            "17\n",
            "19\n",
            "23\n",
            "29\n",
            "31\n",
            "37\n",
            "41\n",
            "43\n",
            "47\n",
            "53\n",
            "59\n",
            "61\n",
            "67\n",
            "71\n",
            "73\n",
            "79\n",
            "83\n",
            "89\n",
            "97\n",
            "101\n",
            "103\n",
            "107\n",
            "109\n",
            "113\n",
            "127\n",
            "131\n",
            "137\n",
            "139\n",
            "149\n",
            "151\n",
            "157\n",
            "163\n",
            "167\n",
            "173\n",
            "179\n",
            "181\n",
            "191\n",
            "193\n",
            "197\n",
            "199\n"
          ]
        }
      ]
    },
    {
      "cell_type": "markdown",
      "source": [
        "Q5  Create an iterator class in Python that generates the Fibonacci sequence up to a specified number of\n",
        "terms."
      ],
      "metadata": {
        "id": "MJ8pAnlVx1mB"
      }
    },
    {
      "cell_type": "code",
      "source": [
        "class FibonacciIterator:\n",
        "    def __init__(self, terms):\n",
        "        # Initialize the iterator with the number of terms to generate\n",
        "        self.terms = terms\n",
        "        self.current = 0  # The current term in the sequence\n",
        "        self.next_term = 1  # The next term in the sequence\n",
        "        self.count = 0  # To keep track of the number of terms generated\n",
        "\n",
        "    def __iter__(self):\n",
        "        # Return the iterator object itself\n",
        "        return self\n",
        "\n",
        "    def __next__(self):\n",
        "        # If we have generated enough terms, stop iteration\n",
        "        if self.count >= self.terms:\n",
        "            raise StopIteration\n",
        "\n",
        "        # The next term in the sequence is the current term\n",
        "        current_fib = self.current\n",
        "\n",
        "        # Update the current and next terms for the next iteration\n",
        "        self.current, self.next_term = self.next_term, self.current + self.next_term\n",
        "\n",
        "        # Increment the count of terms generated\n",
        "        self.count += 1\n",
        "\n",
        "        return current_fib\n",
        "\n",
        "terms = 10\n",
        "fibonacci_sequence = FibonacciIterator(terms)\n",
        "\n",
        "# Using the iterator\n",
        "for num in fibonacci_sequence:\n",
        "    print(num)\n"
      ],
      "metadata": {
        "colab": {
          "base_uri": "https://localhost:8080/"
        },
        "id": "3WMgQF_Ix7qS",
        "outputId": "0fba9529-77f1-449c-8e02-da4fc3748595"
      },
      "execution_count": 6,
      "outputs": [
        {
          "output_type": "stream",
          "name": "stdout",
          "text": [
            "0\n",
            "1\n",
            "1\n",
            "2\n",
            "3\n",
            "5\n",
            "8\n",
            "13\n",
            "21\n",
            "34\n"
          ]
        }
      ]
    },
    {
      "cell_type": "markdown",
      "source": [
        "Q6 Write a generator function in Python that yields the powers of 2 up to a given exponent"
      ],
      "metadata": {
        "id": "d8gcqkNfyeTo"
      }
    },
    {
      "cell_type": "code",
      "source": [
        "def powers_of_2(exponent):\n",
        "    # Yield powers of 2 from 2^0 up to 2^exponent\n",
        "    for i in range(exponent + 1):\n",
        "        yield 2 ** i\n",
        "\n",
        "exponent = 5\n",
        "for power in powers_of_2(exponent):\n",
        "    print(power)\n"
      ],
      "metadata": {
        "colab": {
          "base_uri": "https://localhost:8080/"
        },
        "id": "45cacNXSyh4z",
        "outputId": "b2f70fb8-ea7e-43af-9fe4-54e58b6593e1"
      },
      "execution_count": 7,
      "outputs": [
        {
          "output_type": "stream",
          "name": "stdout",
          "text": [
            "1\n",
            "2\n",
            "4\n",
            "8\n",
            "16\n",
            "32\n"
          ]
        }
      ]
    },
    {
      "cell_type": "markdown",
      "source": [
        "Q7  Implement a generator function that reads a file line by line and yields each line as a string."
      ],
      "metadata": {
        "id": "Lr8jSe-ay10R"
      }
    },
    {
      "cell_type": "code",
      "source": [
        "def read_file_line_by_line(file_path):\n",
        "    with open(file_path, 'r') as file:\n",
        "        # Read the file line by line\n",
        "        for line in file:\n",
        "            yield line.strip()  # Yield each line as a string without trailing newline characters\n",
        "\n",
        "# Example usage:\n",
        "file_path =  # Replace with your file path\n",
        "for line in read_file_line_by_line(file_path):\n",
        "    print(line)\n"
      ],
      "metadata": {
        "colab": {
          "base_uri": "https://localhost:8080/",
          "height": 315
        },
        "id": "h8hDM7E2zVbG",
        "outputId": "fc614e7a-e197-4427-e9db-dff7f1bad424"
      },
      "execution_count": 13,
      "outputs": [
        {
          "output_type": "error",
          "ename": "FileNotFoundError",
          "evalue": "[Errno 2] No such file or directory: '//drive.google.com/drive/home'",
          "traceback": [
            "\u001b[0;31m---------------------------------------------------------------------------\u001b[0m",
            "\u001b[0;31mFileNotFoundError\u001b[0m                         Traceback (most recent call last)",
            "\u001b[0;32m<ipython-input-13-921d088202ac>\u001b[0m in \u001b[0;36m<cell line: 0>\u001b[0;34m()\u001b[0m\n\u001b[1;32m      7\u001b[0m \u001b[0;31m# Example usage:\u001b[0m\u001b[0;34m\u001b[0m\u001b[0;34m\u001b[0m\u001b[0m\n\u001b[1;32m      8\u001b[0m \u001b[0mfile_path\u001b[0m \u001b[0;34m=\u001b[0m \u001b[0;34m'//drive.google.com/drive/home'\u001b[0m  \u001b[0;31m# Replace with your file path\u001b[0m\u001b[0;34m\u001b[0m\u001b[0;34m\u001b[0m\u001b[0m\n\u001b[0;32m----> 9\u001b[0;31m \u001b[0;32mfor\u001b[0m \u001b[0mline\u001b[0m \u001b[0;32min\u001b[0m \u001b[0mread_file_line_by_line\u001b[0m\u001b[0;34m(\u001b[0m\u001b[0mfile_path\u001b[0m\u001b[0;34m)\u001b[0m\u001b[0;34m:\u001b[0m\u001b[0;34m\u001b[0m\u001b[0;34m\u001b[0m\u001b[0m\n\u001b[0m\u001b[1;32m     10\u001b[0m     \u001b[0mprint\u001b[0m\u001b[0;34m(\u001b[0m\u001b[0mline\u001b[0m\u001b[0;34m)\u001b[0m\u001b[0;34m\u001b[0m\u001b[0;34m\u001b[0m\u001b[0m\n",
            "\u001b[0;32m<ipython-input-13-921d088202ac>\u001b[0m in \u001b[0;36mread_file_line_by_line\u001b[0;34m(file_path)\u001b[0m\n\u001b[1;32m      1\u001b[0m \u001b[0;32mdef\u001b[0m \u001b[0mread_file_line_by_line\u001b[0m\u001b[0;34m(\u001b[0m\u001b[0mfile_path\u001b[0m\u001b[0;34m)\u001b[0m\u001b[0;34m:\u001b[0m\u001b[0;34m\u001b[0m\u001b[0;34m\u001b[0m\u001b[0m\n\u001b[0;32m----> 2\u001b[0;31m     \u001b[0;32mwith\u001b[0m \u001b[0mopen\u001b[0m\u001b[0;34m(\u001b[0m\u001b[0mfile_path\u001b[0m\u001b[0;34m,\u001b[0m \u001b[0;34m'r'\u001b[0m\u001b[0;34m)\u001b[0m \u001b[0;32mas\u001b[0m \u001b[0mfile\u001b[0m\u001b[0;34m:\u001b[0m\u001b[0;34m\u001b[0m\u001b[0;34m\u001b[0m\u001b[0m\n\u001b[0m\u001b[1;32m      3\u001b[0m         \u001b[0;31m# Read the file line by line\u001b[0m\u001b[0;34m\u001b[0m\u001b[0;34m\u001b[0m\u001b[0m\n\u001b[1;32m      4\u001b[0m         \u001b[0;32mfor\u001b[0m \u001b[0mline\u001b[0m \u001b[0;32min\u001b[0m \u001b[0mfile\u001b[0m\u001b[0;34m:\u001b[0m\u001b[0;34m\u001b[0m\u001b[0;34m\u001b[0m\u001b[0m\n\u001b[1;32m      5\u001b[0m             \u001b[0;32myield\u001b[0m \u001b[0mline\u001b[0m\u001b[0;34m.\u001b[0m\u001b[0mstrip\u001b[0m\u001b[0;34m(\u001b[0m\u001b[0;34m)\u001b[0m  \u001b[0;31m# Yield each line as a string without trailing newline characters\u001b[0m\u001b[0;34m\u001b[0m\u001b[0;34m\u001b[0m\u001b[0m\n",
            "\u001b[0;31mFileNotFoundError\u001b[0m: [Errno 2] No such file or directory: '//drive.google.com/drive/home'"
          ]
        }
      ]
    },
    {
      "cell_type": "markdown",
      "source": [
        "Q8  Use a lambda function in Python to sort a list of tuples based on the second element of each tuple.\n",
        "\n"
      ],
      "metadata": {
        "id": "sczvEzQk1EGE"
      }
    },
    {
      "cell_type": "code",
      "source": [
        "# List of tuples\n",
        "tuples_list = [(1, 3), (2, 1), (4, 2), (3, 4)]\n",
        "\n",
        "# Sort the list of tuples based on the second element of each tuple\n",
        "sorted_list = sorted(tuples_list, key=lambda x: x[1])\n",
        "\n",
        "# Print the sorted list\n",
        "print(sorted_list)\n"
      ],
      "metadata": {
        "colab": {
          "base_uri": "https://localhost:8080/"
        },
        "id": "5xh1kP2U1JQh",
        "outputId": "80a93f94-8d97-44d9-d765-b37bb749f371"
      },
      "execution_count": 14,
      "outputs": [
        {
          "output_type": "stream",
          "name": "stdout",
          "text": [
            "[(2, 1), (4, 2), (1, 3), (3, 4)]\n"
          ]
        }
      ]
    },
    {
      "cell_type": "markdown",
      "source": [
        "Q9 Write a Python program that uses `map()` to convert a list of temperatures from Celsius to Fahrenheit."
      ],
      "metadata": {
        "id": "scejigxc1ml3"
      }
    },
    {
      "cell_type": "code",
      "source": [
        "# List of temperatures in Celsius\n",
        "celsius_temps = [0, 25, 30, 100, -5]\n",
        "\n",
        "# Function to convert Celsius to Fahrenheit\n",
        "def celsius_to_fahrenheit(celsius):\n",
        "    return (celsius * 9/5) + 32\n",
        "\n",
        "# Use map() to convert the list of Celsius temperatures to Fahrenheit\n",
        "fahrenheit_temps = list(map(celsius_to_fahrenheit, celsius_temps))\n",
        "\n",
        "# Print the result\n",
        "print(fahrenheit_temps)\n"
      ],
      "metadata": {
        "colab": {
          "base_uri": "https://localhost:8080/"
        },
        "id": "F-J-qkAu1sqo",
        "outputId": "e47b106e-246c-464b-aacd-1981484da873"
      },
      "execution_count": 15,
      "outputs": [
        {
          "output_type": "stream",
          "name": "stdout",
          "text": [
            "[32.0, 77.0, 86.0, 212.0, 23.0]\n"
          ]
        }
      ]
    },
    {
      "cell_type": "markdown",
      "source": [
        "Q10 Create a Python program that uses `filter()` to remove all the vowels from a given string."
      ],
      "metadata": {
        "id": "HH6G9RWD2AT4"
      }
    },
    {
      "cell_type": "code",
      "source": [
        "# Function to check if a character is a vowel\n",
        "def is_not_vowel(char):\n",
        "    return char.lower() not in 'aeiou'\n",
        "\n",
        "# The input string\n",
        "input_string = \"Hello, World!\"\n",
        "\n",
        "# Use filter() to remove vowels\n",
        "filtered_string = ''.join(filter(is_not_vowel, input_string))\n",
        "\n",
        "# Print the result\n",
        "print(filtered_string)\n"
      ],
      "metadata": {
        "colab": {
          "base_uri": "https://localhost:8080/"
        },
        "id": "lEtVsoLK2SZH",
        "outputId": "48cf517a-0824-465f-be22-daee4ba65977"
      },
      "execution_count": 16,
      "outputs": [
        {
          "output_type": "stream",
          "name": "stdout",
          "text": [
            "Hll, Wrld!\n"
          ]
        }
      ]
    },
    {
      "cell_type": "code",
      "source": [
        "# Ans11.\n",
        "# Given book orders\n",
        "orders = [\n",
        "    (34587, \"Learning Python, Mark Lutz\", 4, 40.95),\n",
        "    (98762, \"Programming Python, Mark Lutz\", 5, 56.80),\n",
        "    (77226, \"Head First Python, Paul Barry\", 3, 32.95),\n",
        "    (88112, \"Einführung in Python3, Bernd Klein\", 3, 24.99)\n",
        "]\n",
        "\n",
        "# Using map and lambda to calculate the total cost with conditions\n",
        "result = list(map(lambda order: (order[0], order[2] * order[3] if order[2] * order[3] >= 100 else order[2] * order[3] + 10), orders))\n",
        "\n",
        "# Output the result\n",
        "print(result)\n"
      ],
      "metadata": {
        "colab": {
          "base_uri": "https://localhost:8080/"
        },
        "id": "aItvMAsX3rxv",
        "outputId": "c3189910-500d-4f0d-fe41-5d7d5303cc93"
      },
      "execution_count": 17,
      "outputs": [
        {
          "output_type": "stream",
          "name": "stdout",
          "text": [
            "[(34587, 163.8), (98762, 284.0), (77226, 108.85000000000001), (88112, 84.97)]\n"
          ]
        }
      ]
    }
  ]
}